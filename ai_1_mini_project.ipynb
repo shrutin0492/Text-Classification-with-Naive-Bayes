{
  "cells": [
    {
      "cell_type": "markdown",
      "metadata": {
        "id": "view-in-github",
        "colab_type": "text"
      },
      "source": [
        "<a href=\"https://colab.research.google.com/github/shrutin567/Artificial-Intelligence-1-mini-project/blob/main/ai_1_mini_project.ipynb\" target=\"_parent\"><img src=\"https://colab.research.google.com/assets/colab-badge.svg\" alt=\"Open In Colab\"/></a>"
      ]
    },
    {
      "cell_type": "markdown",
      "metadata": {
        "id": "8BggFTGL0ksM"
      },
      "source": [
        "# Basic Text Classification with Naive Bayes\n",
        "***\n",
        "In the mini-project, we perform the basics of text analysis using a subset of movie reviews from the rotten tomatoes database. We'll also use a fundamental technique in Bayesian inference: Naive Bayes."
      ]
    },
    {
      "cell_type": "code",
      "execution_count": null,
      "metadata": {
        "id": "HD-csJyJ0ksO"
      },
      "outputs": [],
      "source": [
        "%matplotlib inline\n",
        "import numpy as np\n",
        "import scipy as sp\n",
        "import matplotlib as mpl\n",
        "import matplotlib.cm as cm\n",
        "import matplotlib.pyplot as plt\n",
        "import pandas as pd\n",
        "import seaborn as sns\n",
        "from six.moves import range\n",
        "\n",
        "# Setup Pandas\n",
        "pd.set_option('display.width', 500)\n",
        "pd.set_option('display.max_columns', 100)\n",
        "pd.set_option('display.notebook_repr_html', True)\n",
        "\n",
        "# Setup Seaborn\n",
        "sns.set_style(\"whitegrid\")\n",
        "sns.set_context(\"poster\")"
      ]
    },
    {
      "cell_type": "markdown",
      "metadata": {
        "id": "RNVy1B2_0ksP"
      },
      "source": [
        "# Table of Contents\n",
        "\n",
        "* [Rotten Tomatoes Dataset](#Rotten-Tomatoes-Dataset)\n",
        "    * [Explore](#Explore)\n",
        "* [The Vector Space Model and a Search Engine](#The-Vector-Space-Model-and-a-Search-Engine)\n",
        "    * [In Code](#In-Code)\n",
        "* [Naive Bayes](#Naive-Bayes)\n",
        "    * [Multinomial Naive Bayes and Other Likelihood Functions](#Multinomial-Naive-Bayes-and-Other-Likelihood-Functions)\n",
        "    * [Picking Hyperparameters for Naive Bayes and Text Maintenance](#Picking-Hyperparameters-for-Naive-Bayes-and-Text-Maintenance)\n",
        "* [Interpretation](#Interpretation)\n"
      ]
    },
    {
      "cell_type": "markdown",
      "metadata": {
        "id": "4-A2GsZI0ksP"
      },
      "source": [
        "## Rotten Tomatoes Dataset"
      ]
    },
    {
      "cell_type": "code",
      "execution_count": null,
      "metadata": {
        "id": "2GDBZR750ksP",
        "outputId": "b5f12614-6d1e-4d7f-9e57-8a59f6259673"
      },
      "outputs": [
        {
          "data": {
            "text/html": [
              "<div>\n",
              "<style scoped>\n",
              "    .dataframe tbody tr th:only-of-type {\n",
              "        vertical-align: middle;\n",
              "    }\n",
              "\n",
              "    .dataframe tbody tr th {\n",
              "        vertical-align: top;\n",
              "    }\n",
              "\n",
              "    .dataframe thead th {\n",
              "        text-align: right;\n",
              "    }\n",
              "</style>\n",
              "<table border=\"1\" class=\"dataframe\">\n",
              "  <thead>\n",
              "    <tr style=\"text-align: right;\">\n",
              "      <th></th>\n",
              "      <th>critic</th>\n",
              "      <th>fresh</th>\n",
              "      <th>imdb</th>\n",
              "      <th>publication</th>\n",
              "      <th>quote</th>\n",
              "      <th>review_date</th>\n",
              "      <th>rtid</th>\n",
              "      <th>title</th>\n",
              "    </tr>\n",
              "  </thead>\n",
              "  <tbody>\n",
              "    <tr>\n",
              "      <th>1</th>\n",
              "      <td>Derek Adams</td>\n",
              "      <td>fresh</td>\n",
              "      <td>114709</td>\n",
              "      <td>Time Out</td>\n",
              "      <td>So ingenious in concept, design and execution ...</td>\n",
              "      <td>2009-10-04</td>\n",
              "      <td>9559</td>\n",
              "      <td>Toy story</td>\n",
              "    </tr>\n",
              "    <tr>\n",
              "      <th>2</th>\n",
              "      <td>Richard Corliss</td>\n",
              "      <td>fresh</td>\n",
              "      <td>114709</td>\n",
              "      <td>TIME Magazine</td>\n",
              "      <td>The year's most inventive comedy.</td>\n",
              "      <td>2008-08-31</td>\n",
              "      <td>9559</td>\n",
              "      <td>Toy story</td>\n",
              "    </tr>\n",
              "    <tr>\n",
              "      <th>3</th>\n",
              "      <td>David Ansen</td>\n",
              "      <td>fresh</td>\n",
              "      <td>114709</td>\n",
              "      <td>Newsweek</td>\n",
              "      <td>A winning animated feature that has something ...</td>\n",
              "      <td>2008-08-18</td>\n",
              "      <td>9559</td>\n",
              "      <td>Toy story</td>\n",
              "    </tr>\n",
              "    <tr>\n",
              "      <th>4</th>\n",
              "      <td>Leonard Klady</td>\n",
              "      <td>fresh</td>\n",
              "      <td>114709</td>\n",
              "      <td>Variety</td>\n",
              "      <td>The film sports a provocative and appealing st...</td>\n",
              "      <td>2008-06-09</td>\n",
              "      <td>9559</td>\n",
              "      <td>Toy story</td>\n",
              "    </tr>\n",
              "    <tr>\n",
              "      <th>5</th>\n",
              "      <td>Jonathan Rosenbaum</td>\n",
              "      <td>fresh</td>\n",
              "      <td>114709</td>\n",
              "      <td>Chicago Reader</td>\n",
              "      <td>An entertaining computer-generated, hyperreali...</td>\n",
              "      <td>2008-03-10</td>\n",
              "      <td>9559</td>\n",
              "      <td>Toy story</td>\n",
              "    </tr>\n",
              "    <tr>\n",
              "      <th>6</th>\n",
              "      <td>Michael Booth</td>\n",
              "      <td>fresh</td>\n",
              "      <td>114709</td>\n",
              "      <td>Denver Post</td>\n",
              "      <td>As Lion King did before it, Toy Story revived ...</td>\n",
              "      <td>2007-05-03</td>\n",
              "      <td>9559</td>\n",
              "      <td>Toy story</td>\n",
              "    </tr>\n",
              "    <tr>\n",
              "      <th>7</th>\n",
              "      <td>Geoff Andrew</td>\n",
              "      <td>fresh</td>\n",
              "      <td>114709</td>\n",
              "      <td>Time Out</td>\n",
              "      <td>The film will probably be more fully appreciat...</td>\n",
              "      <td>2006-06-24</td>\n",
              "      <td>9559</td>\n",
              "      <td>Toy story</td>\n",
              "    </tr>\n",
              "    <tr>\n",
              "      <th>8</th>\n",
              "      <td>Janet Maslin</td>\n",
              "      <td>fresh</td>\n",
              "      <td>114709</td>\n",
              "      <td>New York Times</td>\n",
              "      <td>Children will enjoy a new take on the irresist...</td>\n",
              "      <td>2003-05-20</td>\n",
              "      <td>9559</td>\n",
              "      <td>Toy story</td>\n",
              "    </tr>\n",
              "    <tr>\n",
              "      <th>9</th>\n",
              "      <td>Kenneth Turan</td>\n",
              "      <td>fresh</td>\n",
              "      <td>114709</td>\n",
              "      <td>Los Angeles Times</td>\n",
              "      <td>Although its computer-generated imagery is imp...</td>\n",
              "      <td>2001-02-13</td>\n",
              "      <td>9559</td>\n",
              "      <td>Toy story</td>\n",
              "    </tr>\n",
              "    <tr>\n",
              "      <th>10</th>\n",
              "      <td>Susan Wloszczyna</td>\n",
              "      <td>fresh</td>\n",
              "      <td>114709</td>\n",
              "      <td>USA Today</td>\n",
              "      <td>How perfect that two of the most popular funny...</td>\n",
              "      <td>2000-01-01</td>\n",
              "      <td>9559</td>\n",
              "      <td>Toy story</td>\n",
              "    </tr>\n",
              "    <tr>\n",
              "      <th>11</th>\n",
              "      <td>Roger Ebert</td>\n",
              "      <td>fresh</td>\n",
              "      <td>114709</td>\n",
              "      <td>Chicago Sun-Times</td>\n",
              "      <td>The result is a visionary roller-coaster ride ...</td>\n",
              "      <td>2000-01-01</td>\n",
              "      <td>9559</td>\n",
              "      <td>Toy story</td>\n",
              "    </tr>\n",
              "    <tr>\n",
              "      <th>12</th>\n",
              "      <td>John Hartl</td>\n",
              "      <td>fresh</td>\n",
              "      <td>114709</td>\n",
              "      <td>Film.com</td>\n",
              "      <td>Disney's witty, wondrously imaginative, all-co...</td>\n",
              "      <td>2000-01-01</td>\n",
              "      <td>9559</td>\n",
              "      <td>Toy story</td>\n",
              "    </tr>\n",
              "    <tr>\n",
              "      <th>13</th>\n",
              "      <td>Susan Stark</td>\n",
              "      <td>fresh</td>\n",
              "      <td>114709</td>\n",
              "      <td>Detroit News</td>\n",
              "      <td>Disney's first computer-made animated feature ...</td>\n",
              "      <td>2000-01-01</td>\n",
              "      <td>9559</td>\n",
              "      <td>Toy story</td>\n",
              "    </tr>\n",
              "    <tr>\n",
              "      <th>14</th>\n",
              "      <td>Peter Stack</td>\n",
              "      <td>fresh</td>\n",
              "      <td>114709</td>\n",
              "      <td>San Francisco Chronicle</td>\n",
              "      <td>The script, by Lasseter, Pete Docter, Andrew S...</td>\n",
              "      <td>2000-01-01</td>\n",
              "      <td>9559</td>\n",
              "      <td>Toy story</td>\n",
              "    </tr>\n",
              "    <tr>\n",
              "      <th>15</th>\n",
              "      <td>James Berardinelli</td>\n",
              "      <td>fresh</td>\n",
              "      <td>114709</td>\n",
              "      <td>ReelViews</td>\n",
              "      <td>The one big negative about Toy Story involves ...</td>\n",
              "      <td>2000-01-01</td>\n",
              "      <td>9559</td>\n",
              "      <td>Toy story</td>\n",
              "    </tr>\n",
              "    <tr>\n",
              "      <th>16</th>\n",
              "      <td>Sean Means</td>\n",
              "      <td>fresh</td>\n",
              "      <td>114709</td>\n",
              "      <td>Film.com</td>\n",
              "      <td>Technically, Toy Story is nearly flawless.</td>\n",
              "      <td>2000-01-01</td>\n",
              "      <td>9559</td>\n",
              "      <td>Toy story</td>\n",
              "    </tr>\n",
              "    <tr>\n",
              "      <th>17</th>\n",
              "      <td>Rita Kempley</td>\n",
              "      <td>fresh</td>\n",
              "      <td>114709</td>\n",
              "      <td>Washington Post</td>\n",
              "      <td>It's a nice change of pace to see the studio d...</td>\n",
              "      <td>2000-01-01</td>\n",
              "      <td>9559</td>\n",
              "      <td>Toy story</td>\n",
              "    </tr>\n",
              "    <tr>\n",
              "      <th>18</th>\n",
              "      <td>NaN</td>\n",
              "      <td>fresh</td>\n",
              "      <td>114709</td>\n",
              "      <td>Entertainment Weekly</td>\n",
              "      <td>I can hardly imagine having more fun at the mo...</td>\n",
              "      <td>1995-11-22</td>\n",
              "      <td>9559</td>\n",
              "      <td>Toy story</td>\n",
              "    </tr>\n",
              "    <tr>\n",
              "      <th>19</th>\n",
              "      <td>Roger Moore</td>\n",
              "      <td>fresh</td>\n",
              "      <td>114709</td>\n",
              "      <td>Orlando Sentinel</td>\n",
              "      <td>The great voice acting, the visual puns, all a...</td>\n",
              "      <td>1995-11-22</td>\n",
              "      <td>9559</td>\n",
              "      <td>Toy story</td>\n",
              "    </tr>\n",
              "    <tr>\n",
              "      <th>30</th>\n",
              "      <td>Roger Ebert</td>\n",
              "      <td>rotten</td>\n",
              "      <td>113497</td>\n",
              "      <td>Chicago Sun-Times</td>\n",
              "      <td>A gloomy special-effects extravaganza filled w...</td>\n",
              "      <td>2000-01-01</td>\n",
              "      <td>12436</td>\n",
              "      <td>Jumanji</td>\n",
              "    </tr>\n",
              "    <tr>\n",
              "      <th>32</th>\n",
              "      <td>NaN</td>\n",
              "      <td>fresh</td>\n",
              "      <td>113497</td>\n",
              "      <td>USA Today</td>\n",
              "      <td>A calculated but very entertaining special eff...</td>\n",
              "      <td>2000-01-01</td>\n",
              "      <td>12436</td>\n",
              "      <td>Jumanji</td>\n",
              "    </tr>\n",
              "    <tr>\n",
              "      <th>36</th>\n",
              "      <td>Richard Schickel</td>\n",
              "      <td>fresh</td>\n",
              "      <td>107050</td>\n",
              "      <td>TIME Magazine</td>\n",
              "      <td>Walter Matthau and Jack Lemmon are awfully goo...</td>\n",
              "      <td>2008-08-24</td>\n",
              "      <td>10498</td>\n",
              "      <td>Grumpy Old Men</td>\n",
              "    </tr>\n",
              "    <tr>\n",
              "      <th>37</th>\n",
              "      <td>Derek Adams</td>\n",
              "      <td>rotten</td>\n",
              "      <td>107050</td>\n",
              "      <td>Time Out</td>\n",
              "      <td>Mediocre, regrettably.</td>\n",
              "      <td>2006-06-24</td>\n",
              "      <td>10498</td>\n",
              "      <td>Grumpy Old Men</td>\n",
              "    </tr>\n",
              "    <tr>\n",
              "      <th>38</th>\n",
              "      <td>Caryn James</td>\n",
              "      <td>fresh</td>\n",
              "      <td>107050</td>\n",
              "      <td>New York Times</td>\n",
              "      <td>Just don't expect their bickering to be on the...</td>\n",
              "      <td>2003-05-20</td>\n",
              "      <td>10498</td>\n",
              "      <td>Grumpy Old Men</td>\n",
              "    </tr>\n",
              "    <tr>\n",
              "      <th>39</th>\n",
              "      <td>James Berardinelli</td>\n",
              "      <td>fresh</td>\n",
              "      <td>107050</td>\n",
              "      <td>ReelViews</td>\n",
              "      <td>While it won't come close to my top 10 best li...</td>\n",
              "      <td>2000-01-01</td>\n",
              "      <td>10498</td>\n",
              "      <td>Grumpy Old Men</td>\n",
              "    </tr>\n",
              "    <tr>\n",
              "      <th>40</th>\n",
              "      <td>Roger Ebert</td>\n",
              "      <td>rotten</td>\n",
              "      <td>107050</td>\n",
              "      <td>Chicago Sun-Times</td>\n",
              "      <td>The movie is too pat and practiced to really b...</td>\n",
              "      <td>2000-01-01</td>\n",
              "      <td>10498</td>\n",
              "      <td>Grumpy Old Men</td>\n",
              "    </tr>\n",
              "    <tr>\n",
              "      <th>41</th>\n",
              "      <td>Desson Thomson</td>\n",
              "      <td>fresh</td>\n",
              "      <td>107050</td>\n",
              "      <td>Washington Post</td>\n",
              "      <td>If you poke through Grumpy's cheap sentimental...</td>\n",
              "      <td>2000-01-01</td>\n",
              "      <td>10498</td>\n",
              "      <td>Grumpy Old Men</td>\n",
              "    </tr>\n",
              "    <tr>\n",
              "      <th>47</th>\n",
              "      <td>Liam Lacey</td>\n",
              "      <td>rotten</td>\n",
              "      <td>114885</td>\n",
              "      <td>Globe and Mail</td>\n",
              "      <td>Never escapes the queasy aura of Melrose Place...</td>\n",
              "      <td>2002-04-12</td>\n",
              "      <td>16697</td>\n",
              "      <td>Waiting to Exhale</td>\n",
              "    </tr>\n",
              "    <tr>\n",
              "      <th>48</th>\n",
              "      <td>Kenneth Turan</td>\n",
              "      <td>fresh</td>\n",
              "      <td>114885</td>\n",
              "      <td>Los Angeles Times</td>\n",
              "      <td>A pleasant if undemanding piece of work that i...</td>\n",
              "      <td>2001-02-13</td>\n",
              "      <td>16697</td>\n",
              "      <td>Waiting to Exhale</td>\n",
              "    </tr>\n",
              "    <tr>\n",
              "      <th>49</th>\n",
              "      <td>Edward Guthmann</td>\n",
              "      <td>rotten</td>\n",
              "      <td>114885</td>\n",
              "      <td>San Francisco Chronicle</td>\n",
              "      <td>You want the movie to stomp and rejoice and cr...</td>\n",
              "      <td>2000-01-01</td>\n",
              "      <td>16697</td>\n",
              "      <td>Waiting to Exhale</td>\n",
              "    </tr>\n",
              "  </tbody>\n",
              "</table>\n",
              "</div>"
            ],
            "text/plain": [
              "                critic   fresh    imdb              publication                                              quote review_date   rtid              title\n",
              "1          Derek Adams   fresh  114709                 Time Out  So ingenious in concept, design and execution ...  2009-10-04   9559          Toy story\n",
              "2      Richard Corliss   fresh  114709            TIME Magazine                  The year's most inventive comedy.  2008-08-31   9559          Toy story\n",
              "3          David Ansen   fresh  114709                 Newsweek  A winning animated feature that has something ...  2008-08-18   9559          Toy story\n",
              "4        Leonard Klady   fresh  114709                  Variety  The film sports a provocative and appealing st...  2008-06-09   9559          Toy story\n",
              "5   Jonathan Rosenbaum   fresh  114709           Chicago Reader  An entertaining computer-generated, hyperreali...  2008-03-10   9559          Toy story\n",
              "6        Michael Booth   fresh  114709              Denver Post  As Lion King did before it, Toy Story revived ...  2007-05-03   9559          Toy story\n",
              "7         Geoff Andrew   fresh  114709                 Time Out  The film will probably be more fully appreciat...  2006-06-24   9559          Toy story\n",
              "8         Janet Maslin   fresh  114709           New York Times  Children will enjoy a new take on the irresist...  2003-05-20   9559          Toy story\n",
              "9        Kenneth Turan   fresh  114709        Los Angeles Times  Although its computer-generated imagery is imp...  2001-02-13   9559          Toy story\n",
              "10    Susan Wloszczyna   fresh  114709                USA Today  How perfect that two of the most popular funny...  2000-01-01   9559          Toy story\n",
              "11         Roger Ebert   fresh  114709        Chicago Sun-Times  The result is a visionary roller-coaster ride ...  2000-01-01   9559          Toy story\n",
              "12          John Hartl   fresh  114709                 Film.com  Disney's witty, wondrously imaginative, all-co...  2000-01-01   9559          Toy story\n",
              "13         Susan Stark   fresh  114709             Detroit News  Disney's first computer-made animated feature ...  2000-01-01   9559          Toy story\n",
              "14         Peter Stack   fresh  114709  San Francisco Chronicle  The script, by Lasseter, Pete Docter, Andrew S...  2000-01-01   9559          Toy story\n",
              "15  James Berardinelli   fresh  114709                ReelViews  The one big negative about Toy Story involves ...  2000-01-01   9559          Toy story\n",
              "16          Sean Means   fresh  114709                 Film.com         Technically, Toy Story is nearly flawless.  2000-01-01   9559          Toy story\n",
              "17        Rita Kempley   fresh  114709          Washington Post  It's a nice change of pace to see the studio d...  2000-01-01   9559          Toy story\n",
              "18                 NaN   fresh  114709     Entertainment Weekly  I can hardly imagine having more fun at the mo...  1995-11-22   9559          Toy story\n",
              "19         Roger Moore   fresh  114709         Orlando Sentinel  The great voice acting, the visual puns, all a...  1995-11-22   9559          Toy story\n",
              "30         Roger Ebert  rotten  113497        Chicago Sun-Times  A gloomy special-effects extravaganza filled w...  2000-01-01  12436            Jumanji\n",
              "32                 NaN   fresh  113497                USA Today  A calculated but very entertaining special eff...  2000-01-01  12436            Jumanji\n",
              "36    Richard Schickel   fresh  107050            TIME Magazine  Walter Matthau and Jack Lemmon are awfully goo...  2008-08-24  10498     Grumpy Old Men\n",
              "37         Derek Adams  rotten  107050                 Time Out                             Mediocre, regrettably.  2006-06-24  10498     Grumpy Old Men\n",
              "38         Caryn James   fresh  107050           New York Times  Just don't expect their bickering to be on the...  2003-05-20  10498     Grumpy Old Men\n",
              "39  James Berardinelli   fresh  107050                ReelViews  While it won't come close to my top 10 best li...  2000-01-01  10498     Grumpy Old Men\n",
              "40         Roger Ebert  rotten  107050        Chicago Sun-Times  The movie is too pat and practiced to really b...  2000-01-01  10498     Grumpy Old Men\n",
              "41      Desson Thomson   fresh  107050          Washington Post  If you poke through Grumpy's cheap sentimental...  2000-01-01  10498     Grumpy Old Men\n",
              "47          Liam Lacey  rotten  114885           Globe and Mail  Never escapes the queasy aura of Melrose Place...  2002-04-12  16697  Waiting to Exhale\n",
              "48       Kenneth Turan   fresh  114885        Los Angeles Times  A pleasant if undemanding piece of work that i...  2001-02-13  16697  Waiting to Exhale\n",
              "49     Edward Guthmann  rotten  114885  San Francisco Chronicle  You want the movie to stomp and rejoice and cr...  2000-01-01  16697  Waiting to Exhale"
            ]
          },
          "execution_count": 13,
          "metadata": {},
          "output_type": "execute_result"
        }
      ],
      "source": [
        "critics = pd.read_csv('./critics.csv')\n",
        "#let's drop rows with missing quotes\n",
        "critics = critics[~critics.quote.isnull()]\n",
        "critics.head(30)"
      ]
    },
    {
      "cell_type": "markdown",
      "metadata": {
        "id": "UcjMM8XF0ksQ"
      },
      "source": [
        "### Explore"
      ]
    },
    {
      "cell_type": "code",
      "execution_count": null,
      "metadata": {
        "id": "Us2t-RU40ksR",
        "outputId": "fe49f003-1967-4a2d-a690-44cdc1bd6d3f"
      },
      "outputs": [
        {
          "name": "stdout",
          "output_type": "stream",
          "text": [
            "Number of reviews: 15561\n",
            "Number of critics: 623\n",
            "Number of movies:  1921\n"
          ]
        }
      ],
      "source": [
        "n_reviews = len(critics)\n",
        "n_movies = critics.rtid.unique().size\n",
        "n_critics = critics.critic.unique().size\n",
        "\n",
        "\n",
        "print(\"Number of reviews: {:d}\".format(n_reviews))\n",
        "print(\"Number of critics: {:d}\".format(n_critics))\n",
        "print(\"Number of movies:  {:d}\".format(n_movies))"
      ]
    },
    {
      "cell_type": "code",
      "execution_count": null,
      "metadata": {
        "id": "S_pOsyYH0ksR",
        "outputId": "0bdd8352-19aa-4274-94e9-e33b7880184a"
      },
      "outputs": [
        {
          "data": {
            "image/png": "[encoded data removed]",
            "text/plain": [
              "<Figure size 432x288 with 1 Axes>"
            ]
          },
          "metadata": {},
          "output_type": "display_data"
        }
      ],
      "source": [
        "df = critics.copy()\n",
        "df['fresh'] = df.fresh == 'fresh'\n",
        "grp = df.groupby('critic')\n",
        "counts = grp.critic.count()  # number of reviews by each critic\n",
        "means = grp.fresh.mean()     # average freshness for each critic\n",
        "\n",
        "means[counts > 100].hist(bins=10, edgecolor='w', lw=1)\n",
        "plt.xlabel(\"Average Rating per critic\")\n",
        "plt.ylabel(\"Number of Critics\")\n",
        "plt.yticks([0, 2, 4, 6, 8, 10]);"
      ]
    },
    {
      "cell_type": "markdown",
      "metadata": {
        "id": "U2hKPmEu0ksR"
      },
      "source": [
        "<div class=\"span5 alert alert-info\">\n",
        "<h3>Inference Set I</h3>\n",
        "<br/>\n",
        "In the histogram above: we need to tell a story about the average ratings per critic. we need to indentify the shape of the distribution. we can identify what is interesting about the distribution and what might explain them.\n",
        "</div>"
      ]
    },
    {
      "cell_type": "markdown",
      "metadata": {
        "id": "S140vEt00ksR"
      },
      "source": [
        "0.6 is the most common average movie rating for critics, but a majority of critics have average ratings that are >0.6. The distribution is bimodel distribution. After 0.6 average rating per critic value, there is a right skewed distribution model. On the left, it appears to be a normal distribution. It's interesting how smooth the distribution is to the right of 0.6, yet how jagged it is to the left of 0.6. This can be explained by movie critics' subjective baseline measure (they rarely rate below 0.6) and/or a non-representative sample of movies in the dataset."
      ]
    },
    {
      "cell_type": "markdown",
      "metadata": {
        "id": "XKUTanMZ0ksR"
      },
      "source": [
        "## The Vector Space Model and a Search Engine"
      ]
    },
    {
      "cell_type": "markdown",
      "metadata": {
        "id": "WicP5h2K0ksR"
      },
      "source": [
        "\n",
        "\n",
        "check out Python packages [`nltk`](http://www.nltk.org/), [`spaCy`](https://spacy.io/), [`pattern`](http://www.clips.ua.ac.be/pattern), and their associated resources. Also see [`word2vec`](https://en.wikipedia.org/wiki/Word2vec).\n",
        "\n",
        "Let us define the vector derived from document $d$ by $\\bar V(d)$. Each document is treated as a vector containing information about the words contained in it. Each vector has the same length and each entry \"slot\" in the vector contains some kind of data about the words that appear in the document such as presence/absence (1/0), count (an integer) or some other statistic. Each vector has the same length because each document shared the same vocabulary across the full collection of documents -- this collection is called a *corpus*.\n",
        "\n",
        "To define the vocabulary, we take a union of all words we have seen in all documents. We then just associate an array index with them. So \"hello\" may be at index 5 and \"world\" at index 99.\n",
        "\n",
        "Suppose we have the following corpus:\n",
        "\n",
        "`A Fox one day spied a beautiful bunch of ripe grapes hanging from a vine trained along the branches of a tree. The grapes seemed ready to burst with juice, and the Fox's mouth watered as he gazed longingly at them.`\n",
        "\n",
        "Suppose we treat each sentence as a document $d$. The vocabulary (often called the *lexicon*) is the following:\n",
        "\n",
        "$V = \\left\\{\\right.$ `a, along, and, as, at, beautiful, branches, bunch, burst, day, fox, fox's, from, gazed, grapes, hanging, he, juice, longingly, mouth, of, one, ready, ripe, seemed, spied, the, them, to, trained, tree, vine, watered, with`$\\left.\\right\\}$\n",
        "\n",
        "Then the document\n",
        "\n",
        "`A Fox one day spied a beautiful bunch of ripe grapes hanging from a vine trained along the branches of a tree`\n",
        "\n",
        "may be represented as the following sparse vector of word counts:\n",
        "\n",
        "$$\\bar V(d) = \\left( 4,1,0,0,0,1,1,1,0,1,1,0,1,0,1,1,0,0,0,0,2,1,0,1,0,0,1,0,0,1,1,1,0,0 \\right)$$\n",
        "\n",
        "or more succinctly as\n",
        "\n",
        "`[(0, 4), (1, 1), (5, 1), (6, 1), (7, 1), (9, 1), (10, 1), (12, 1), (14, 1), (15, 1), (20, 2), (21, 1), (23, 1),`\n",
        "`(26, 1), (29,1), (30, 1), (31, 1)]`\n",
        "\n",
        "along with a dictionary\n",
        "\n",
        "``\n",
        "{\n",
        "    0: a, 1: along, 5: beautiful, 6: branches, 7: bunch, 9: day, 10: fox, 12: from, 14: grapes, 15: hanging, 19: mouth, 20: of, 21: one, 23: ripe, 24: seemed, 25: spied, 26: the, 29:trained, 30: tree, 31: vine,\n",
        "}\n",
        "``\n",
        "\n",
        "Then, a set of documents becomes, in the usual `sklearn` style, a sparse matrix with rows being sparse arrays representing documents and columns representing the features/words in the vocabulary.\n",
        "\n",
        "Notice that this representation loses the relative ordering of the terms in the document. That is \"cat ate rat\" and \"rat ate cat\" are the same. Thus, this representation is also known as the Bag-Of-Words representation.\n",
        "\n",
        "Here is another example, from the book quoted above, although the matrix is transposed here so that documents are columns:\n",
        "\n",
        "\n",
        "Such a matrix is also catted a Term-Document Matrix. Here, the terms being indexed could be stemmed before indexing; for instance, `jealous` and `jealousy` after stemming are the same feature. One could also make use of other \"Natural Language Processing\" transformations in constructing the vocabulary. We could use Lemmatization, which reduces words to lemmas: work, working, worked would all reduce to work. We could remove \"stopwords\" from our vocabulary, such as common words like \"the\". We could look for particular parts of speech, such as adjectives. This is often done in Sentiment Analysis. And so on. It all depends on our application.\n",
        "\n",
        "From the book:\n",
        ">The standard way of quantifying the similarity between two documents $d_1$ and $d_2$  is to compute the cosine similarity of their vector representations $\\bar V(d_1)$ and $\\bar V(d_2)$:\n",
        "\n",
        "$$S_{12} = \\frac{\\bar V(d_1) \\cdot \\bar V(d_2)}{|\\bar V(d_1)| \\times |\\bar V(d_2)|}$$\n",
        "\n",
        "[Vector Space Model]\n",
        "\n",
        ">There is a far more compelling reason to represent documents as vectors: we can also view a query as a vector. Consider the query q = jealous gossip. This query turns into the unit vector $\\bar V(q)$ = (0, 0.707, 0.707) on the three coordinates below.\n",
        "\n",
        "[novel terms]\n",
        "\n",
        ">The key idea now: to assign to each document d a score equal to the dot product:\n",
        "\n",
        "$$\\bar V(q) \\cdot \\bar V(d)$$\n",
        "\n",
        "Then we can use this simple Vector Model as a Search engine."
      ]
    },
    {
      "cell_type": "markdown",
      "metadata": {
        "id": "bbYNvy3x0ksS"
      },
      "source": [
        "### In Code"
      ]
    },
    {
      "cell_type": "code",
      "execution_count": null,
      "metadata": {
        "id": "W78ps5nk0ksS",
        "outputId": "402d42a6-1aa5-4d2c-f73a-e14ee8c60399"
      },
      "outputs": [
        {
          "name": "stdout",
          "output_type": "stream",
          "text": [
            "Original text is\n",
            "Hop on pop\n",
            "Hop off pop\n",
            "Hop Hop hop\n",
            "\n",
            "Transformed text vector is \n",
            "[[1 0 1 1]\n",
            " [1 1 0 1]\n",
            " [3 0 0 0]]\n",
            "\n",
            "Words for each feature:\n",
            "['hop', 'off', 'on', 'pop']\n"
          ]
        }
      ],
      "source": [
        "from sklearn.feature_extraction.text import CountVectorizer\n",
        "\n",
        "text = ['Hop on pop', 'Hop off pop', 'Hop Hop hop']\n",
        "print(\"Original text is\\n{}\".format('\\n'.join(text)))\n",
        "\n",
        "vectorizer = CountVectorizer(min_df=0)\n",
        "\n",
        "# call `fit` to build the vocabulary\n",
        "vectorizer.fit(text)\n",
        "\n",
        "# call `transform` to convert text to a bag of words\n",
        "x = vectorizer.transform(text)\n",
        "\n",
        "# CountVectorizer uses a sparse array to save memory, but it's easier in this assignment to\n",
        "# convert back to a \"normal\" numpy array\n",
        "x = x.toarray()\n",
        "\n",
        "print(\"\")\n",
        "print(\"Transformed text vector is \\n{}\".format(x))\n",
        "\n",
        "# `get_feature_names` tracks which word is associated with each column of the transformed x\n",
        "print(\"\")\n",
        "print(\"Words for each feature:\")\n",
        "print(vectorizer.get_feature_names())\n",
        "\n",
        "# Notice that the bag of words treatment doesn't preserve information about the *order* of words,\n",
        "# just their frequency"
      ]
    },
    {
      "cell_type": "code",
      "execution_count": null,
      "metadata": {
        "id": "WjKt-CyQ0ksS"
      },
      "outputs": [],
      "source": [
        "def make_xy(critics, vectorizer=None):\n",
        "    #Your code here\n",
        "    if vectorizer is None:\n",
        "        vectorizer = CountVectorizer()\n",
        "    X = vectorizer.fit_transform(critics.quote)\n",
        "    X = X.tocsc()  # some versions of sklearn return COO format\n",
        "    y = (critics.fresh == 'fresh').values.astype(np.int)\n",
        "    return X, y\n",
        "X, y = make_xy(critics)"
      ]
    },
    {
      "cell_type": "markdown",
      "metadata": {
        "id": "CzkUIY0l0ksT"
      },
      "source": [
        "## Naive Bayes"
      ]
    },
    {
      "cell_type": "markdown",
      "metadata": {
        "id": "C8h-jyJn0ksT"
      },
      "source": [
        "From Bayes' Theorem, we have that\n",
        "\n",
        "$$P(c \\vert f) = \\frac{P(c \\cap f)}{P(f)}$$\n",
        "\n",
        "where $c$ represents a *class* or category, and $f$ represents a feature vector, such as $\\bar V(d)$ as above. **We are computing the probability that a document (or whatever we are classifying) belongs to category *c* given the features in the document.** $P(f)$ is really just a normalization constant, so the literature usually writes Bayes' Theorem in context of Naive Bayes as\n",
        "\n",
        "$$P(c \\vert f) \\propto P(f \\vert c) P(c) $$\n",
        "\n",
        "$P(c)$ is called the *prior* and is simply the probability of seeing class $c$. But what is $P(f \\vert c)$? This is the probability that we see feature set $f$ given that this document is actually in class $c$. This is called the *likelihood* and comes from the data. One of the major assumptions of the Naive Bayes model is that the features are *conditionally independent* given the class. While the presence of a particular discriminative word may uniquely identify the document as being part of class $c$ and thus violate general feature independence, conditional independence means that the presence of that term is independent of all the other words that appear *within that class*. This is a very important distinction. Recall that if two events are independent, then:\n",
        "\n",
        "$$P(A \\cap B) = P(A) \\cdot P(B)$$\n",
        "\n",
        "Thus, conditional independence implies\n",
        "\n",
        "$$P(f \\vert c)  = \\prod_i P(f_i | c) $$\n",
        "\n",
        "where $f_i$ is an individual feature (a word in this example).\n",
        "\n",
        "To make a classification, we then choose the class $c$ such that $P(c \\vert f)$ is maximal.\n",
        "\n",
        "There is a small caveat when computing these probabilities. For [floating point underflow](http://nlp.stanford.edu/IR-book/html/htmledition/naive-bayes-text-classification-1.html) we change the product into a sum by going into log space. This is called the LogSumExp trick. So:\n",
        "\n",
        "$$\\log P(f \\vert c)  = \\sum_i \\log P(f_i \\vert c) $$\n",
        "\n",
        "There is another caveat. What if we see a term that didn't exist in the training data? This means that $P(f_i \\vert c) = 0$ for that term, and thus $P(f \\vert c)  = \\prod_i P(f_i | c) = 0$, which doesn't help us at all. Instead of using zeros, we add a small negligible value called $\\alpha$ to each count. This is called Laplace Smoothing.\n",
        "\n",
        "$$P(f_i \\vert c) = \\frac{N_{ic}+\\alpha}{N_c + \\alpha N_i}$$\n",
        "\n",
        "where $N_{ic}$ is the number of times feature $i$ was seen in class $c$, $N_c$ is the number of times class $c$ was seen and $N_i$ is the number of times feature $i$ was seen globally. $\\alpha$ is sometimes called a regularization parameter."
      ]
    },
    {
      "cell_type": "markdown",
      "metadata": {
        "id": "w-sWholM0ksT"
      },
      "source": [
        "### Multinomial Naive Bayes and Other Likelihood Functions\n",
        "\n",
        "Since we are modeling word counts, we are using variation of Naive Bayes called Multinomial Naive Bayes. This is because the likelihood function actually takes the form of the multinomial distribution.\n",
        "\n",
        "$$P(f \\vert c) = \\frac{\\left( \\sum_i f_i \\right)!}{\\prod_i f_i!} \\prod_{f_i} P(f_i \\vert c)^{f_i} \\propto \\prod_{i} P(f_i \\vert c)$$\n",
        "\n",
        "where the nasty term out front is absorbed as a normalization constant such that probabilities sum to 1.\n",
        "\n",
        "There are many other variations of Naive Bayes, all which depend on what type of value $f_i$ takes. If $f_i$ is continuous, we may be able to use *Gaussian Naive Bayes*. First compute the mean and variance for each class $c$. Then the likelihood, $P(f \\vert c)$ is given as follows\n",
        "\n",
        "$$P(f_i = v \\vert c) = \\frac{1}{\\sqrt{2\\pi \\sigma^2_c}} e^{- \\frac{\\left( v - \\mu_c \\right)^2}{2 \\sigma^2_c}}$$"
      ]
    },
    {
      "cell_type": "markdown",
      "metadata": {
        "id": "gIRIe2LF0ksT"
      },
      "source": [
        "<div class=\"span5 alert alert-info\">\n",
        "<h3>Inference Set II</h3>\n",
        "\n",
        "<p><b></b> Implement a simple Naive Bayes classifier:</p>\n",
        "\n",
        "<ol>\n",
        "<li> split the data set into a training and test set\n",
        "<li> Use `scikit-learn`'s `MultinomialNB()` classifier with default parameters.\n",
        "<li> train the classifier over the training set and test on the test set\n",
        "<li> print the accuracy scores for both the training and the test sets\n",
        "</ol>\n",
        "\n",
        "inference:\n",
        "</div>"
      ]
    },
    {
      "cell_type": "code",
      "execution_count": null,
      "metadata": {
        "id": "VHZcRG9N0ksT",
        "outputId": "8e0dc20e-a52d-41f3-d0fa-9d0a302444f1"
      },
      "outputs": [
        {
          "name": "stdout",
          "output_type": "stream",
          "text": [
            "Training accuracy score is 0.9209083119108826\n",
            "Testing accuracy score is 0.7635569262400411\n"
          ]
        }
      ],
      "source": [
        "# import required modules\n",
        "from sklearn.model_selection import train_test_split\n",
        "from sklearn.naive_bayes import MultinomialNB\n",
        "from sklearn.metrics import accuracy_score\n",
        "\n",
        "X_train, X_test, y_train, y_test = train_test_split(X, y)\n",
        "\n",
        "classifier = MultinomialNB()\n",
        "classifier.fit(X_train, y_train)\n",
        "\n",
        "y_pred = classifier.predict(X_test)\n",
        "\n",
        "training_accuracy = classifier.score(X_train, y_train)\n",
        "test_accuracy = accuracy_score(y_test, y_pred)\n",
        "\n",
        "print('Training accuracy score is {}'.format(training_accuracy))\n",
        "print('Testing accuracy score is {}'.format(test_accuracy))"
      ]
    },
    {
      "cell_type": "markdown",
      "metadata": {
        "id": "bf-MCPop0ksU"
      },
      "source": [
        "The classifier appears to be overfitting to the training data, with a much larger training accuracy (0.92) than testing accuracy (0.76). The classifer does not perform well in predicting the unseen data. In order to get rid of overfitting ang have better accuracy result we need to tune hyper parameters."
      ]
    },
    {
      "cell_type": "markdown",
      "metadata": {
        "id": "719zqXzz0ksU"
      },
      "source": [
        "### Picking Hyperparameters for Naive Bayes and Text Maintenance"
      ]
    },
    {
      "cell_type": "markdown",
      "metadata": {
        "id": "xYm5QrYz0ksU"
      },
      "source": [
        "We need to know what value to use for $\\alpha$, and we also need to know which words to include in the vocabulary. As mentioned earlier, some words are obvious stopwords. Other words appear so infrequently that they serve as noise, and other words in addition to stopwords appear so frequently that they may also serve as noise."
      ]
    },
    {
      "cell_type": "markdown",
      "metadata": {
        "id": "m8kbrmHD0ksU"
      },
      "source": [
        "First, let's find an appropriate value for `min_df` for the `CountVectorizer`. `min_df` can be either an integer or a float/decimal. If it is an integer, `min_df` represents the minimum number of documents a word must appear in for it to be included in the vocabulary. If it is a float, it represents the minimum *percentage* of documents a word must appear in to be included in the vocabulary. From the documentation:"
      ]
    },
    {
      "cell_type": "markdown",
      "metadata": {
        "id": "CING11HV0ksV"
      },
      "source": [
        ">min_df: When building the vocabulary ignore terms that have a document frequency strictly lower than the given threshold. This value is also called cut-off in the literature. If float, the parameter represents a proportion of documents, integer absolute counts. This parameter is ignored if vocabulary is not None."
      ]
    },
    {
      "cell_type": "markdown",
      "metadata": {
        "id": "9knJkfWB0ksV"
      },
      "source": [
        "<div class=\"span5 alert alert-info\">\n",
        "<h3>Inference Set III</h3>\n",
        "\n",
        "<p><b></b> Construct the cumulative distribution of document frequencies (df). The $x$-axis is a document count $x_i$ and the $y$-axis is the percentage of words that appear less than $x_i$ times. For example, at $x=5$, plot a point representing the percentage or number of words that appear in 5 or fewer documents.</p>\n",
        "\n",
        "<p>we need to look for the point at which the curve begins climbing steeply. This may be a good value for `min_df`. If we were interested in also picking `max_df`, we would likely pick the value where the curve starts to plateau. </p>\n",
        "</div>"
      ]
    },
    {
      "cell_type": "code",
      "execution_count": null,
      "metadata": {
        "id": "WfNbm8zs0ksV",
        "outputId": "e74ca4ae-d344-47ab-a6d6-f9798fd3e93b"
      },
      "outputs": [
        {
          "data": {
            "image/png": "[encoded data removed]",
            "text/plain": [
              "<Figure size 576x432 with 1 Axes>"
            ]
          },
          "metadata": {},
          "output_type": "display_data"
        }
      ],
      "source": [
        "from collections import Counter\n",
        "\n",
        "vectorizer = CountVectorizer()\n",
        "X = vectorizer.fit_transform(critics.quote)\n",
        "doc_count = Counter(X.tocsr().indices).values()\n",
        "\n",
        "plt.figure(figsize=(8,6))\n",
        "plt.hist(doc_count, bins = range(1000), alpha = 0.75, cumulative = True, density = 1)\n",
        "plt.axis([0,11,0,1])\n",
        "plt.xticks(range(0,100,5))\n",
        "plt.title('Cumulative Distribution of Document Frequencies')\n",
        "plt.xlabel('Document Count')\n",
        "plt.ylabel('% of words that appear less than x times')\n",
        "plt.show()"
      ]
    },
    {
      "cell_type": "markdown",
      "metadata": {
        "id": "dMYrFa0t0ksV"
      },
      "source": [
        "**Comment:**\n",
        "\n",
        "As it might be observed in the chart, the curve begins climbing steeply at approximately 2 documents which we may select as min_df. Also, we might see that curve starts to plateau at approximately 40 documents which we may select as max_df."
      ]
    },
    {
      "cell_type": "markdown",
      "metadata": {
        "id": "PoP7SXOB0ksV"
      },
      "source": [
        "The parameter $\\alpha$ is chosen to be a small value that simply avoids having zeros in the probability computations. This value can sometimes be chosen arbitrarily with domain expertise, but we will use K-fold cross validation. In K-fold cross-validation, we divide the data into $K$ non-overlapping parts. We train on $K-1$ of the folds and test on the remaining fold. We then iterate, so that each fold serves as the test fold exactly once. The function `cv_score` performs the K-fold cross-validation algorithm for us, but we need to pass a function that measures the performance of the algorithm on each fold."
      ]
    },
    {
      "cell_type": "code",
      "execution_count": null,
      "metadata": {
        "id": "hr3LFeS80ksV"
      },
      "outputs": [],
      "source": [
        "from sklearn.model_selection import KFold\n",
        "def cv_score(clf, X, y, scorefunc):\n",
        "    result = 0.\n",
        "    nfold = 5\n",
        "    for train, test in KFold(nfold).split(X): # split data into train/test groups, 5 times\n",
        "        clf.fit(X[train], y[train]) # fit the classifier, passed is as clf.\n",
        "        result += scorefunc(clf, X[test], y[test]) # evaluate score function on held-out data\n",
        "    return result / nfold # average"
      ]
    },
    {
      "cell_type": "markdown",
      "metadata": {
        "id": "pBj_drVd0ksV"
      },
      "source": [
        "We use the log-likelihood as the score here in `scorefunc`. The higher the log-likelihood, the better. Indeed, what we do in `cv_score` above is to implement the cross-validation part of `GridSearchCV`.\n",
        "\n",
        "The custom scoring function `scorefunc` allows us to use different metrics depending on the decision risk we care about (precision, accuracy, profit etc.) directly on the validation set. You will often find people using `roc_auc`, precision, recall, or `F1-score` as the scoring function."
      ]
    },
    {
      "cell_type": "code",
      "execution_count": null,
      "metadata": {
        "id": "Biep7LQ-0ksW"
      },
      "outputs": [],
      "source": [
        "def log_likelihood(clf, x, y):\n",
        "    prob = clf.predict_log_proba(x)\n",
        "    rotten = y == 0\n",
        "    fresh = ~rotten\n",
        "    return prob[rotten, 0].sum() + prob[fresh, 1].sum()"
      ]
    },
    {
      "cell_type": "markdown",
      "metadata": {
        "id": "dw1prN1Q0ksW"
      },
      "source": [
        "We'll cross-validate over the regularization parameter $\\alpha$."
      ]
    },
    {
      "cell_type": "markdown",
      "metadata": {
        "id": "ZascUwll0ksW"
      },
      "source": [
        "Let's set up the train and test masks first, and then we can run the cross-validation procedure."
      ]
    },
    {
      "cell_type": "code",
      "execution_count": null,
      "metadata": {
        "id": "7niLcAoy0ksW",
        "outputId": "7c6b81ef-5152-47c2-97f0-61dead906352"
      },
      "outputs": [
        {
          "name": "stderr",
          "output_type": "stream",
          "text": [
            "C:\\Users\\User\\Anaconda3\\lib\\site-packages\\sklearn\\model_selection\\_split.py:2026: FutureWarning: From version 0.21, test_size will always complement train_size unless both are specified.\n",
            "  FutureWarning)\n"
          ]
        }
      ],
      "source": [
        "from sklearn.model_selection import train_test_split\n",
        "_, itest = train_test_split(range(critics.shape[0]), train_size=0.7)\n",
        "mask = np.zeros(critics.shape[0], dtype=np.bool)\n",
        "mask[itest] = True"
      ]
    },
    {
      "cell_type": "markdown",
      "metadata": {
        "id": "1-_sGY170ksW"
      },
      "source": [
        "<div class=\"span5 alert alert-info\">\n",
        "<h3>Inference Set IV</h3>\n",
        "\n",
        "<p><b></b>  function `log_likelihood` as the score, what are we optimizing for?</p>\n",
        "\n",
        "<p><b>what would happen if you choose a value of $\\alpha$ that is too high</p>\n",
        "\n",
        "<p><b>Using the skeleton code below, find the best values of the parameter `alpha`, and use the value of `min_df` you chose in the previous exercise set. Use the `cv_score` function above with the `log_likelihood` function for scoring.</p>\n",
        "</div>"
      ]
    },
    {
      "cell_type": "code",
      "execution_count": null,
      "metadata": {
        "id": "e0BHwhg30ksW",
        "outputId": "e47a7f41-115b-4f25-a264-595833d3d033"
      },
      "outputs": [
        {
          "name": "stdout",
          "output_type": "stream",
          "text": [
            "alpha: 0.1 score: -976.9629313010006\n",
            "alpha: 1 score: -637.0555669481818\n",
            "alpha: 5 score: -1001.2060521918302\n",
            "alpha: 10 score: -1219.4878978339648\n",
            "alpha: 50 score: -1310.2123707038158\n"
          ]
        }
      ],
      "source": [
        "from sklearn.naive_bayes import MultinomialNB\n",
        "\n",
        "#the grid of parameters to search over\n",
        "alphas = [.1, 1, 5, 10, 50]\n",
        "best_min_df = 2 # YOUR TURN: put your value of min_df here.\n",
        "\n",
        "#Find the best value for alpha and min_df, and the best classifier\n",
        "best_alpha = None\n",
        "maxscore=-np.inf\n",
        "for alpha in alphas:\n",
        "    vectorizer = CountVectorizer(min_df=best_min_df)\n",
        "    Xthis, ythis = make_xy(critics, vectorizer)\n",
        "    Xtrainthis = Xthis[mask]\n",
        "    ytrainthis = ythis[mask]\n",
        "    clf = MultinomialNB(alpha = alpha)\n",
        "    score = cv_score(clf, Xtrainthis, ytrainthis, log_likelihood)\n",
        "    print('alpha: {} score: {}'.format(alpha, score))\n",
        "\n",
        "    if score > maxscore:\n",
        "        maxscore = score\n",
        "        best_alpha = alpha"
      ]
    },
    {
      "cell_type": "code",
      "execution_count": null,
      "metadata": {
        "id": "rB0F80ds0ksW",
        "outputId": "8264fff0-c7cb-401f-9400-ce935e7f7ee3"
      },
      "outputs": [
        {
          "name": "stdout",
          "output_type": "stream",
          "text": [
            "Best alpha: 1\n"
          ]
        }
      ],
      "source": [
        "print(\"Best alpha: {}\".format(best_alpha))"
      ]
    },
    {
      "cell_type": "markdown",
      "metadata": {
        "id": "gWPIOdOA0ksW"
      },
      "source": [
        "<div class=\"span5 alert alert-info\">\n",
        "<h3>Inference Set V: Working with the Best Parameters</h3>\n",
        "\n",
        "<p><b>Exercise:</b> Using the best value of  `alpha` we just found, calculate the accuracy on the training and test sets. we need to find if this classifier is better</p>\n",
        "\n",
        "</div>"
      ]
    },
    {
      "cell_type": "code",
      "execution_count": null,
      "metadata": {
        "id": "uMxju7Wf0ksZ",
        "outputId": "e519ac94-37bc-4147-dd8c-40c2f958c43c"
      },
      "outputs": [
        {
          "name": "stdout",
          "output_type": "stream",
          "text": [
            "Accuracy on training data: 0.931891\n",
            "Accuracy on test data:     0.743849\n"
          ]
        }
      ],
      "source": [
        "vectorizer = CountVectorizer(min_df=best_min_df)\n",
        "X, y = make_xy(critics, vectorizer)\n",
        "xtrain=X[mask]\n",
        "ytrain=y[mask]\n",
        "xtest=X[~mask]\n",
        "ytest=y[~mask]\n",
        "\n",
        "clf = MultinomialNB(alpha=best_alpha).fit(xtrain, ytrain)\n",
        "\n",
        "#your turn. Print the accuracy on the test and training dataset\n",
        "training_accuracy = clf.score(xtrain, ytrain)\n",
        "test_accuracy = clf.score(xtest, ytest)\n",
        "\n",
        "print(\"Accuracy on training data: {:2f}\".format(training_accuracy))\n",
        "print(\"Accuracy on test data:     {:2f}\".format(test_accuracy))"
      ]
    },
    {
      "cell_type": "code",
      "execution_count": null,
      "metadata": {
        "id": "YMpu_Qfy0ksZ",
        "outputId": "9d4907c7-9bb7-4bda-b8ab-a8d373db6426"
      },
      "outputs": [
        {
          "name": "stdout",
          "output_type": "stream",
          "text": [
            "[[2412 1846]\n",
            " [ 944 5690]]\n"
          ]
        }
      ],
      "source": [
        "from sklearn.metrics import confusion_matrix\n",
        "print(confusion_matrix(ytest, clf.predict(xtest)))"
      ]
    },
    {
      "cell_type": "markdown",
      "metadata": {
        "id": "xDhrGUJl0ksa"
      },
      "source": [
        "**Comment:**\n",
        "\n",
        "The previous accuracy scores were 0.902570 for training dataset and 0.777949 for test dataset. Comparing these results with the new accuracy scores incorporating alpha:\n",
        "\n",
        "The new training accuracy is slightly better, but the test accuracy is worse by approximately 3.6%.\n",
        "\n",
        "The huge difference between the Training Accuracy and the Test Accuracy means that the model is still overfitting despite cross-validating in order to choose alpha. Therefore, this classifier is not better in that sense.\n",
        "\n",
        "Attempt to cross-validate with a larger array of potential alphas may improve the model and therefore improve the training and test accuracies."
      ]
    },
    {
      "cell_type": "markdown",
      "metadata": {
        "id": "uRuinYFv0ksa"
      },
      "source": [
        "## Interpretation"
      ]
    },
    {
      "cell_type": "markdown",
      "metadata": {
        "id": "K84wBdne0ksa"
      },
      "source": [
        "### What are the strongly predictive features?\n",
        "\n",
        "We use a neat trick to identify strongly predictive features (i.e. words).\n",
        "\n",
        "* first, create a data set such that each row has exactly one feature. This is represented by the identity matrix.\n",
        "* use the trained classifier to make predictions on this matrix\n",
        "* sort the rows by predicted probabilities, and pick the top and bottom $K$ rows"
      ]
    },
    {
      "cell_type": "code",
      "execution_count": null,
      "metadata": {
        "id": "qJILSDlM0ksa",
        "outputId": "0dc07c7c-3ff2-4bff-a394-0d88dde09669"
      },
      "outputs": [
        {
          "name": "stdout",
          "output_type": "stream",
          "text": [
            "Good words\t     P(fresh | word)\n",
            "         masterpiece 0.97\n",
            "             against 0.95\n",
            "              superb 0.94\n",
            "             delight 0.94\n",
            "              themes 0.94\n",
            "         brilliantly 0.94\n",
            "            powerful 0.93\n",
            "         beautifully 0.93\n",
            "            stirring 0.92\n",
            "          remarkable 0.92\n",
            "Bad words\t     P(fresh | word)\n",
            "               video 0.12\n",
            "              zombie 0.12\n",
            "            supposed 0.12\n",
            "           pointless 0.12\n",
            "              failed 0.11\n",
            "               hated 0.11\n",
            "               sadly 0.11\n",
            "          uninspired 0.10\n",
            "             problem 0.08\n",
            "       unfortunately 0.07\n"
          ]
        }
      ],
      "source": [
        "words = np.array(vectorizer.get_feature_names())\n",
        "\n",
        "x = np.eye(xtest.shape[1])\n",
        "probs = clf.predict_log_proba(x)[:, 0]\n",
        "ind = np.argsort(probs)\n",
        "\n",
        "good_words = words[ind[:10]]\n",
        "bad_words = words[ind[-10:]]\n",
        "\n",
        "good_prob = probs[ind[:10]]\n",
        "bad_prob = probs[ind[-10:]]\n",
        "\n",
        "print(\"Good words\\t     P(fresh | word)\")\n",
        "for w, p in zip(good_words, good_prob):\n",
        "    print(\"{:>20}\".format(w), \"{:.2f}\".format(1 - np.exp(p)))\n",
        "\n",
        "print(\"Bad words\\t     P(fresh | word)\")\n",
        "for w, p in zip(bad_words, bad_prob):\n",
        "    print(\"{:>20}\".format(w), \"{:.2f}\".format(1 - np.exp(p)))"
      ]
    },
    {
      "cell_type": "markdown",
      "metadata": {
        "id": "Iy--4mFB0ksa"
      },
      "source": [
        "<div class=\"span5 alert alert-info\">\n",
        "<h3>Inference Set VI</h3>\n",
        "\n",
        "<p><bWhy does this method work? What does the probability for each row in the identity matrix represent</p>\n",
        "\n",
        "</div>"
      ]
    },
    {
      "cell_type": "markdown",
      "metadata": {
        "id": "kwFNC_GW0ksa"
      },
      "source": [
        "**Comment:**\n",
        "\n",
        "By creating an identity matrix with the size of the number of features/words, each row represents exactly one feature/word. We then use this one word to predict the probabilitiy of freshness or rottenness of a review that contains this word. If one single word can generate high probability of a review being fresh or rotten, that implies this feature has a high predictive power. To sum up, since each row represents one feature, when you train the classifier on it, you end up with the probability of that feature being classified as positive."
      ]
    },
    {
      "cell_type": "markdown",
      "metadata": {
        "id": "xA5XRKcN0ksa"
      },
      "source": [
        "The above exercise is an example of *feature selection*. There are many other feature selection methods. A list of feature selection methods available in `sklearn` is [here](http://scikit-learn.org/stable/modules/classes.html#module-sklearn.feature_selection). The most common feature selection technique for text mining is the chi-squared $\\left( \\chi^2 \\right)$ [method](http://nlp.stanford.edu/IR-book/html/htmledition/feature-selectionchi2-feature-selection-1.html)."
      ]
    },
    {
      "cell_type": "markdown",
      "metadata": {
        "id": "V_6jC0yJ0ksa"
      },
      "source": [
        "### Prediction Errors\n",
        "\n",
        "We can see mis-predictions as well."
      ]
    },
    {
      "cell_type": "code",
      "execution_count": null,
      "metadata": {
        "id": "EEOhb3Ur0ksa",
        "outputId": "ae89ee0c-9804-4d5b-b3a5-43d5cb88045a"
      },
      "outputs": [
        {
          "name": "stdout",
          "output_type": "stream",
          "text": [
            "Mis-predicted Rotten quotes\n",
            "---------------------------\n",
            "Benefits from a lively lead performance by the miscast Denzel Washington but doesn't come within light years of the book, one of the greatest American autobiographies.\n",
            "\n",
            "A complicated film that never really successfully yokes together the themes of money-making and sexuality, it reveals both Kazan's operatic sensibility and his inability to follow an argument rigorously through.\n",
            "\n",
            "This pacifist spirit of brotherhood echoes the heroics in Princess Mononoke and other anime titles, but the artistic gap between the Miyazaki masterpiece and this project is huge.\n",
            "\n",
            "Lacking the surface glitz, attention-grabbing plot and star power of John Grisham's previous adaptations, Folley's film will also suffer due to comparisons with the similarly-themed and better Tim Robbins' Dead Man Walking, released last year.\n",
            "\n",
            "Voight's performance gives credibility to his character's obsession, but even that cannot overcome the discrepancy between the deeper themes and the routine nature of this piece of box-office action adventure.\n",
            "\n",
            "Mis-predicted Fresh quotes\n",
            "--------------------------\n",
            "Weighed down by a dull setup featuring Ralph 'Karate Kid' Macchio, the movie gets a much-needed charge from Pesci, a bundle of bandy-legged impudence as Macchio's lawyer cousin, Vincent Gambini.\n",
            "\n",
            "Haggis's drama is about much more than interlocking front-end collisions. It's about the way we learn, often badly, about one another and how it may take a bad confrontation to peel away the misperceptions.\n",
            "\n",
            "I saw this at a festival and hated it, then sat through it again a year later and decided it wasn't so bad, aside from the god-awful ending.\n",
            "\n",
            "The gangland plot is flimsy (bad guy Peter Greene wears too much eyeliner), and the jokes are erratic, but it's a far better showcase for Carrey's comic-from-Uranus talent than Ace Ventura.\n",
            "\n",
            "A very minor parable on paying attention to family while you can, Frost offers a wide range of passing diversions, from snowboarding derring-do to a minimally annoying computerized title character to lots of tender snowman-son bonding moments.\n",
            "\n"
          ]
        }
      ],
      "source": [
        "x, y = make_xy(critics, vectorizer)\n",
        "\n",
        "prob = clf.predict_proba(x)[:, 0]\n",
        "predict = clf.predict(x)\n",
        "\n",
        "bad_rotten = np.argsort(prob[y == 0])[:5]\n",
        "bad_fresh = np.argsort(prob[y == 1])[-5:]\n",
        "\n",
        "print(\"Mis-predicted Rotten quotes\")\n",
        "print('---------------------------')\n",
        "for row in bad_rotten:\n",
        "    print(critics[y == 0].quote.iloc[row])\n",
        "    print(\"\")\n",
        "\n",
        "print(\"Mis-predicted Fresh quotes\")\n",
        "print('--------------------------')\n",
        "for row in bad_fresh:\n",
        "    print(critics[y == 1].quote.iloc[row])\n",
        "    print(\"\")"
      ]
    },
    {
      "cell_type": "markdown",
      "metadata": {
        "id": "MjWAMc8K0ksa"
      },
      "source": [
        "<div class=\"span5 alert alert-info\">\n",
        "<h3>Inference Set VII: Predicting the Freshness for a New Review</h3>\n",
        "<br/>\n",
        "<div>\n",
        "<b>Exercise:</b>\n",
        "<ul>\n",
        "<li> Using the best trained classifier, predict the freshness of the following sentence: *'This movie is not remarkable, touching, or superb in any way'*\n",
        "<li>is this the expected result\n",
        "</ul>\n",
        "</div>\n",
        "</div>"
      ]
    },
    {
      "cell_type": "code",
      "execution_count": null,
      "metadata": {
        "id": "AqFrYjCy0ksb",
        "outputId": "610d60ed-0c44-499a-f338-3e6fd41d3156"
      },
      "outputs": [
        {
          "name": "stdout",
          "output_type": "stream",
          "text": [
            "Class Probabilities: [[5.20509714e-04 9.99479490e-01]]\n",
            "Predicted Class: [1]\n"
          ]
        }
      ],
      "source": [
        "#your turn\n",
        "vectorizer = CountVectorizer(min_df = best_min_df)\n",
        "X, y = make_xy(critics, vectorizer)\n",
        "clf = MultinomialNB(alpha = best_alpha).fit(X,y)\n",
        "\n",
        "new_text = ['This movie is not remarkable, touching, or superb in any way']\n",
        "\n",
        "vectorized_text = vectorizer.transform(new_text)\n",
        "new_probs = clf.predict_log_proba(vectorized_text)\n",
        "predicted_class = clf.predict(vectorized_text)\n",
        "\n",
        "print(('Class Probabilities: {}'.format(np.exp(new_probs))))\n",
        "print(('Predicted Class: {}'.format(predicted_class)))"
      ]
    },
    {
      "cell_type": "markdown",
      "metadata": {
        "id": "cyVd6gNZ0ksb"
      },
      "source": [
        "**Comment:**\n",
        "\n",
        "Our best trained classifier predicts that this new one-sentence review is 'fresh' with a probability of 99%, but it is clearly a negative review that is misclassified. Yes, this is exactly the result that I expected. Because the bag-of-words approah does not take into account the word 'not' which negates the positive description that follows. In this particular case, I assume that it would be misclassified. One way to solve this problem is to use bigrams, which will read in the phrase 'not remarkable' and generate a better prediction. Another way is to use random forest, which will allow for interactions between words."
      ]
    },
    {
      "cell_type": "markdown",
      "metadata": {
        "id": "sy101JUT0ksb"
      },
      "source": [
        "### Aside: TF-IDF Weighting for Term Importance\n",
        "\n",
        "TF-IDF stands for\n",
        "\n",
        "`Term-Frequency X Inverse Document Frequency`.\n",
        "\n",
        "In the standard `CountVectorizer` model above, we used just the term frequency in a document of words in our vocabulary. In TF-IDF, we weight this term frequency by the inverse of its popularity in all documents. For example, if the word \"movie\" showed up in all the documents, it would not have much predictive value. It could actually be considered a stopword. By weighing its counts by 1 divided by its overall frequency, we downweight it. We can then use this TF-IDF weighted features as inputs to any classifier. **TF-IDF is essentially a measure of term importance, and of how discriminative a word is in a corpus.** There are a variety of nuances involved in computing TF-IDF, mainly involving where to add the smoothing term to avoid division by 0, or log of 0 errors. The formula for TF-IDF in `scikit-learn` differs from that of most textbooks:\n",
        "\n",
        "$$\\mbox{TF-IDF}(t, d) = \\mbox{TF}(t, d)\\times \\mbox{IDF}(t) = n_{td} \\log{\\left( \\frac{\\vert D \\vert}{\\vert d : t \\in d \\vert} + 1 \\right)}$$\n",
        "\n",
        "where $n_{td}$ is the number of times term $t$ occurs in document $d$, $\\vert D \\vert$ is the number of documents, and $\\vert d : t \\in d \\vert$ is the number of documents that contain $t$"
      ]
    },
    {
      "cell_type": "code",
      "execution_count": null,
      "metadata": {
        "id": "UvlUjMD-0ksb"
      },
      "outputs": [],
      "source": [
        "# http://scikit-learn.org/dev/modules/feature_extraction.html#text-feature-extraction\n",
        "# http://scikit-learn.org/dev/modules/classes.html#text-feature-extraction-ref\n",
        "from sklearn.feature_extraction.text import TfidfVectorizer\n",
        "tfidfvectorizer = TfidfVectorizer(min_df=1, stop_words='english')\n",
        "Xtfidf=tfidfvectorizer.fit_transform(critics.quote)"
      ]
    }
  ],
  "metadata": {
    "kernelspec": {
      "display_name": "Python 3",
      "language": "python",
      "name": "python3"
    },
    "language_info": {
      "codemirror_mode": {
        "name": "ipython",
        "version": 3
      },
      "file_extension": ".py",
      "mimetype": "text/x-python",
      "name": "python",
      "nbconvert_exporter": "python",
      "pygments_lexer": "ipython3",
      "version": "3.6.5"
    },
    "colab": {
      "provenance": [],
      "include_colab_link": true
    }
  },
  "nbformat": 4,
  "nbformat_minor": 0
}